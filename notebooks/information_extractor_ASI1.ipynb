{
 "cells": [
  {
   "cell_type": "code",
   "execution_count": 15,
   "metadata": {},
   "outputs": [],
   "source": [
    "import os\n",
    "from langchain_asi import ASI1ChatModel\n",
    "import pdfplumber\n"
   ]
  },
  {
   "cell_type": "code",
   "execution_count": 16,
   "metadata": {},
   "outputs": [],
   "source": [
    "asi1_model = ASI1ChatModel(\n",
    "    model=\"asi1-mini\",\n",
    "    api_key=os.getenv(\"ASI1_API_KEY\"),\n",
    ")"
   ]
  },
  {
   "cell_type": "code",
   "execution_count": 17,
   "metadata": {},
   "outputs": [],
   "source": [
    "def leer_texto_pdf(path_pdf):\n",
    "    with pdfplumber.open(path_pdf) as pdf:\n",
    "        texto = \"\\n\".join([pagina.extract_text() for pagina in pdf.pages if pagina.extract_text()])\n",
    "    return texto"
   ]
  },
  {
   "cell_type": "code",
   "execution_count": 18,
   "metadata": {},
   "outputs": [],
   "source": [
    "def construir_prompt(texto_factura):\n",
    "    prompt = f\"\"\"\n",
    "Extrae los siguientes campos de esta factura:\n",
    "\n",
    "- Nombre del emisor\n",
    "- RFC del emisor\n",
    "- Fecha de emisión\n",
    "- Nombre del receptor\n",
    "- RFC del receptor\n",
    "- Moneda\n",
    "- Subtotal\n",
    "- IVA\n",
    "- Total\n",
    "\n",
    "Factura:\n",
    "---\n",
    "{texto_factura}\n",
    "---\n",
    "Responde solo en formato JSON válido y sin ningún comentario adicional.\n",
    "    \"\"\"\n",
    "    return prompt"
   ]
  },
  {
   "cell_type": "code",
   "execution_count": 19,
   "metadata": {},
   "outputs": [],
   "source": [
    "def extraer_datos_con_asi1(path_pdf):\n",
    "    texto_factura = leer_texto_pdf(path_pdf)\n",
    "    prompt = construir_prompt(texto_factura)\n",
    "    respuesta = asi1_model.invoke(prompt)\n",
    "    \n",
    "    # Obtener el contenido de la respuesta\n",
    "    contenido = respuesta.content\n",
    "    \n",
    "    # Intentar diferentes formatos de extracción\n",
    "    try:\n",
    "        # Si el contenido ya es un JSON válido\n",
    "        if contenido.strip().startswith('{'):\n",
    "            return contenido\n",
    "        \n",
    "        # Si está envuelto en markdown\n",
    "        if '```json' in contenido:\n",
    "            json_str = contenido.split('```json\\n')[1].split('\\n```')[0]\n",
    "            return json_str\n",
    "        \n",
    "        # Si está envuelto en markdown sin especificar el lenguaje\n",
    "        if '```' in contenido:\n",
    "            json_str = contenido.split('```\\n')[1].split('\\n```')[0]\n",
    "            return json_str\n",
    "            \n",
    "        # Si no se encuentra ningún formato específico, devolver el contenido tal cual\n",
    "        return contenido\n",
    "        \n",
    "    except Exception as e:\n",
    "        print(f\"Error al procesar la respuesta: {e}\")\n",
    "        print(\"Contenido original:\", contenido)\n",
    "        return contenido\n"
   ]
  },
  {
   "cell_type": "code",
   "execution_count": 20,
   "metadata": {},
   "outputs": [
    {
     "name": "stderr",
     "output_type": "stream",
     "text": [
      "CropBox missing from /Page, defaulting to MediaBox\n",
      "CropBox missing from /Page, defaulting to MediaBox\n"
     ]
    },
    {
     "name": "stdout",
     "output_type": "stream",
     "text": [
      "{\n",
      "  \"Nombre del emisor\": \"ITZEL ESTEFANIA HERNANDEZ RAMIREZ\",\n",
      "  \"RFC del emisor\": \"HERI910707B41\",\n",
      "  \"Fecha de emisión\": \"2024-02-14T08:58:41\",\n",
      "  \"Nombre del receptor\": \"FREIGHT APP DE MEXICO\",\n",
      "  \"RFC del receptor\": \"FHM190118EN7\",\n",
      "  \"Subtotal\": 7800.00,\n",
      "  \"IVA\": 1248.00,\n",
      "  \"Total\": 9048.00\n",
      "}\n"
     ]
    }
   ],
   "source": [
    "resultado = extraer_datos_con_asi1(r\"C:\\Users\\josei\\fr8-projects\\GitHub\\fr8-invoices-information\\data\\raw\\unique\\Estadía 53572-1.pdf\")\n",
    "print(resultado)\n"
   ]
  }
 ],
 "metadata": {
  "kernelspec": {
   "display_name": ".venv",
   "language": "python",
   "name": "python3"
  },
  "language_info": {
   "codemirror_mode": {
    "name": "ipython",
    "version": 3
   },
   "file_extension": ".py",
   "mimetype": "text/x-python",
   "name": "python",
   "nbconvert_exporter": "python",
   "pygments_lexer": "ipython3",
   "version": "3.12.0"
  }
 },
 "nbformat": 4,
 "nbformat_minor": 2
}
