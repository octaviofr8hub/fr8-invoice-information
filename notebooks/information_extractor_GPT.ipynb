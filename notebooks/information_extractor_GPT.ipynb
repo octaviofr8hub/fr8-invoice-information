{
 "cells": [
  {
   "cell_type": "code",
   "execution_count": 1,
   "metadata": {},
   "outputs": [],
   "source": [
    "import pdfplumber\n",
    "import json\n",
    "from openai import OpenAI\n",
    "import os"
   ]
  },
  {
   "cell_type": "code",
   "execution_count": 2,
   "metadata": {},
   "outputs": [],
   "source": [
    "GPT_API_KEY = os.getenv(\"OPENAI_API_KEY\")"
   ]
  },
  {
   "cell_type": "code",
   "execution_count": 3,
   "metadata": {},
   "outputs": [],
   "source": [
    "# Inicializa el cliente\n",
    "client = OpenAI(api_key=GPT_API_KEY)"
   ]
  },
  {
   "cell_type": "code",
   "execution_count": 4,
   "metadata": {},
   "outputs": [],
   "source": [
    "def leer_texto_pdf(path_pdf):\n",
    "    with pdfplumber.open(path_pdf) as pdf:\n",
    "        texto = \"\\n\".join([pagina.extract_text() for pagina in pdf.pages if pagina.extract_text()])\n",
    "    return texto"
   ]
  },
  {
   "cell_type": "code",
   "execution_count": 5,
   "metadata": {},
   "outputs": [],
   "source": [
    "def construir_prompt(texto_factura):\n",
    "    prompt = f\"\"\"\n",
    "Extrae los siguientes campos de esta factura:\n",
    "\n",
    "- Nombre del emisor\n",
    "- RFC del emisor\n",
    "- Fecha de emisión\n",
    "- Nombre del receptor\n",
    "- RFC del receptor\n",
    "- Subtotal\n",
    "- IVA\n",
    "- Total\n",
    "\n",
    "Factura:\n",
    "---\n",
    "{texto_factura}\n",
    "---\n",
    "Responde solo en formato JSON válido y sin ningún comentario adicional.\n",
    "    \"\"\"\n",
    "    return prompt"
   ]
  },
  {
   "cell_type": "code",
   "execution_count": 6,
   "metadata": {},
   "outputs": [],
   "source": [
    "def extraer_datos_con_gpt(path_pdf):\n",
    "    texto = leer_texto_pdf(path_pdf)\n",
    "    prompt = construir_prompt(texto)\n",
    "\n",
    "    respuesta = client.chat.completions.create(\n",
    "        model=\"gpt-4o-mini\",\n",
    "        messages=[{\"role\": \"user\", \"content\": prompt}],\n",
    "        temperature=0\n",
    "    )\n",
    "\n",
    "    contenido = respuesta.choices[0].message.content\n",
    "\n",
    "    try:\n",
    "        return json.loads(contenido)\n",
    "    except Exception as e:\n",
    "        print(\"⚠️ Error al interpretar la respuesta como JSON.\")\n",
    "        print(\"Respuesta cruda:\\n\", contenido)\n",
    "        return None"
   ]
  },
  {
   "cell_type": "code",
   "execution_count": 7,
   "metadata": {},
   "outputs": [
    {
     "name": "stderr",
     "output_type": "stream",
     "text": [
      "CropBox missing from /Page, defaulting to MediaBox\n",
      "CropBox missing from /Page, defaulting to MediaBox\n"
     ]
    },
    {
     "name": "stdout",
     "output_type": "stream",
     "text": [
      "⚠️ Error al interpretar la respuesta como JSON.\n",
      "Respuesta cruda:\n",
      " ```json\n",
      "{\n",
      "  \"Nombre del emisor\": \"ITZEL ESTEFANIA HERNANDEZ RAMIREZ\",\n",
      "  \"RFC del emisor\": \"HERI910707B41\",\n",
      "  \"Fecha de emisión\": \"2024-02-14T08:58:41\",\n",
      "  \"Nombre del receptor\": \"FREIGHT APP DE MEXICO\",\n",
      "  \"RFC del receptor\": \"FHM190118EN7\",\n",
      "  \"Subtotal\": \"7,800.00 MXN\",\n",
      "  \"IVA\": \"1,248.00 MXN\",\n",
      "  \"Total\": \"9,048.00 MXN\"\n",
      "}\n",
      "```\n",
      "null\n"
     ]
    }
   ],
   "source": [
    "resultado = extraer_datos_con_gpt(r\"C:\\Users\\josei\\fr8-projects\\GitHub\\fr8-invoices-information\\data\\raw\\unique\\Estadía 53572-1.pdf\")\n",
    "print(json.dumps(resultado, indent=2, ensure_ascii=False))"
   ]
  }
 ],
 "metadata": {
  "kernelspec": {
   "display_name": ".venv",
   "language": "python",
   "name": "python3"
  },
  "language_info": {
   "codemirror_mode": {
    "name": "ipython",
    "version": 3
   },
   "file_extension": ".py",
   "mimetype": "text/x-python",
   "name": "python",
   "nbconvert_exporter": "python",
   "pygments_lexer": "ipython3",
   "version": "3.12.0"
  }
 },
 "nbformat": 4,
 "nbformat_minor": 2
}
